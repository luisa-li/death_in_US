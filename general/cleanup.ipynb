{
 "cells": [
  {
   "cell_type": "code",
   "execution_count": 2,
   "metadata": {},
   "outputs": [
    {
     "name": "stdout",
     "output_type": "stream",
     "text": [
      "Intel MKL WARNING: Support of Intel(R) Streaming SIMD Extensions 4.2 (Intel(R) SSE4.2) enabled only processors has been deprecated. Intel oneAPI Math Kernel Library 2025.0 will require Intel(R) Advanced Vector Extensions (Intel(R) AVX) instructions.\n",
      "Intel MKL WARNING: Support of Intel(R) Streaming SIMD Extensions 4.2 (Intel(R) SSE4.2) enabled only processors has been deprecated. Intel oneAPI Math Kernel Library 2025.0 will require Intel(R) Advanced Vector Extensions (Intel(R) AVX) instructions.\n"
     ]
    }
   ],
   "source": [
    "import pandas as pd"
   ]
  },
  {
   "cell_type": "markdown",
   "metadata": {},
   "source": [
    "Cleaning up the data from the 2015 CSV file, getting rid of the columns that are either mostly empty or that do not contain information relevant to the analysis."
   ]
  },
  {
   "cell_type": "code",
   "execution_count": 3,
   "metadata": {},
   "outputs": [
    {
     "name": "stderr",
     "output_type": "stream",
     "text": [
      "/var/folders/f1/1727nmns4pn3qwy09yz08x2r0000gn/T/ipykernel_5889/240594107.py:1: DtypeWarning: Columns (40,41,42,43,61,62,63,64) have mixed types. Specify dtype option on import or set low_memory=False.\n",
      "  data = pd.read_csv('../original_data/2015_data.csv')\n"
     ]
    }
   ],
   "source": [
    "data = pd.read_csv('../original_data/2015_data.csv')"
   ]
  },
  {
   "cell_type": "code",
   "execution_count": 4,
   "metadata": {},
   "outputs": [],
   "source": [
    "columns_to_drop = ['resident_status', 'education_1989_revision', 'education_reporting_flag', 'detail_age_type','age_substitution_flag','age_recode_52','age_recode_27','age_recode_12','infant_age_recode_22', 'day_of_week_of_death', 'current_data_year', 'place_of_injury_for_causes_w00_y34_except_y06_and_y07_', 'icd_code_10th_revision', 'activity_code', '130_infant_cause_recode', 'number_of_entity_axis_conditions','entity_condition_1','entity_condition_2','entity_condition_3','entity_condition_4','entity_condition_5','entity_condition_6','entity_condition_7','entity_condition_8','entity_condition_9','entity_condition_10','entity_condition_11','entity_condition_12','entity_condition_13','entity_condition_14','entity_condition_15','entity_condition_16','entity_condition_17','entity_condition_18','entity_condition_19','entity_condition_20','number_of_record_axis_conditions','record_condition_1','record_condition_2','record_condition_3','record_condition_4','record_condition_5','record_condition_6','record_condition_7','record_condition_8','record_condition_9','record_condition_10','record_condition_11','record_condition_12','record_condition_13','record_condition_14','record_condition_15','record_condition_16','record_condition_17','record_condition_18','record_condition_19','record_condition_20','bridged_race_flag', 'race_imputation_flag']  # List of column names to drop\n",
    "data = data.drop(columns=columns_to_drop)"
   ]
  },
  {
   "cell_type": "code",
   "execution_count": 5,
   "metadata": {},
   "outputs": [
    {
     "data": {
      "text/html": [
       "<div>\n",
       "<style scoped>\n",
       "    .dataframe tbody tr th:only-of-type {\n",
       "        vertical-align: middle;\n",
       "    }\n",
       "\n",
       "    .dataframe tbody tr th {\n",
       "        vertical-align: top;\n",
       "    }\n",
       "\n",
       "    .dataframe thead th {\n",
       "        text-align: right;\n",
       "    }\n",
       "</style>\n",
       "<table border=\"1\" class=\"dataframe\">\n",
       "  <thead>\n",
       "    <tr style=\"text-align: right;\">\n",
       "      <th></th>\n",
       "      <th>education_2003_revision</th>\n",
       "      <th>month_of_death</th>\n",
       "      <th>sex</th>\n",
       "      <th>detail_age</th>\n",
       "      <th>place_of_death_and_decedents_status</th>\n",
       "      <th>marital_status</th>\n",
       "      <th>injury_at_work</th>\n",
       "      <th>manner_of_death</th>\n",
       "      <th>method_of_disposition</th>\n",
       "      <th>autopsy</th>\n",
       "      <th>358_cause_recode</th>\n",
       "      <th>113_cause_recode</th>\n",
       "      <th>39_cause_recode</th>\n",
       "      <th>race</th>\n",
       "      <th>race_recode_3</th>\n",
       "      <th>race_recode_5</th>\n",
       "      <th>hispanic_origin</th>\n",
       "      <th>hispanic_originrace_recode</th>\n",
       "    </tr>\n",
       "  </thead>\n",
       "  <tbody>\n",
       "    <tr>\n",
       "      <th>0</th>\n",
       "      <td>3.0</td>\n",
       "      <td>1</td>\n",
       "      <td>M</td>\n",
       "      <td>84</td>\n",
       "      <td>1</td>\n",
       "      <td>M</td>\n",
       "      <td>U</td>\n",
       "      <td>7.0</td>\n",
       "      <td>B</td>\n",
       "      <td>N</td>\n",
       "      <td>230</td>\n",
       "      <td>67</td>\n",
       "      <td>22</td>\n",
       "      <td>1</td>\n",
       "      <td>1</td>\n",
       "      <td>1</td>\n",
       "      <td>100</td>\n",
       "      <td>6</td>\n",
       "    </tr>\n",
       "    <tr>\n",
       "      <th>1</th>\n",
       "      <td>6.0</td>\n",
       "      <td>1</td>\n",
       "      <td>M</td>\n",
       "      <td>70</td>\n",
       "      <td>1</td>\n",
       "      <td>M</td>\n",
       "      <td>U</td>\n",
       "      <td>7.0</td>\n",
       "      <td>C</td>\n",
       "      <td>N</td>\n",
       "      <td>93</td>\n",
       "      <td>27</td>\n",
       "      <td>8</td>\n",
       "      <td>1</td>\n",
       "      <td>1</td>\n",
       "      <td>1</td>\n",
       "      <td>100</td>\n",
       "      <td>6</td>\n",
       "    </tr>\n",
       "    <tr>\n",
       "      <th>2</th>\n",
       "      <td>3.0</td>\n",
       "      <td>1</td>\n",
       "      <td>F</td>\n",
       "      <td>91</td>\n",
       "      <td>4</td>\n",
       "      <td>W</td>\n",
       "      <td>U</td>\n",
       "      <td>7.0</td>\n",
       "      <td>C</td>\n",
       "      <td>N</td>\n",
       "      <td>189</td>\n",
       "      <td>52</td>\n",
       "      <td>17</td>\n",
       "      <td>1</td>\n",
       "      <td>1</td>\n",
       "      <td>1</td>\n",
       "      <td>100</td>\n",
       "      <td>6</td>\n",
       "    </tr>\n",
       "    <tr>\n",
       "      <th>3</th>\n",
       "      <td>3.0</td>\n",
       "      <td>1</td>\n",
       "      <td>F</td>\n",
       "      <td>40</td>\n",
       "      <td>4</td>\n",
       "      <td>S</td>\n",
       "      <td>N</td>\n",
       "      <td>3.0</td>\n",
       "      <td>B</td>\n",
       "      <td>Y</td>\n",
       "      <td>434</td>\n",
       "      <td>129</td>\n",
       "      <td>41</td>\n",
       "      <td>3</td>\n",
       "      <td>2</td>\n",
       "      <td>3</td>\n",
       "      <td>100</td>\n",
       "      <td>8</td>\n",
       "    </tr>\n",
       "    <tr>\n",
       "      <th>4</th>\n",
       "      <td>5.0</td>\n",
       "      <td>1</td>\n",
       "      <td>F</td>\n",
       "      <td>89</td>\n",
       "      <td>6</td>\n",
       "      <td>W</td>\n",
       "      <td>U</td>\n",
       "      <td>7.0</td>\n",
       "      <td>C</td>\n",
       "      <td>N</td>\n",
       "      <td>214</td>\n",
       "      <td>62</td>\n",
       "      <td>21</td>\n",
       "      <td>1</td>\n",
       "      <td>1</td>\n",
       "      <td>1</td>\n",
       "      <td>100</td>\n",
       "      <td>6</td>\n",
       "    </tr>\n",
       "  </tbody>\n",
       "</table>\n",
       "</div>"
      ],
      "text/plain": [
       "   education_2003_revision  month_of_death sex  detail_age  \\\n",
       "0                      3.0               1   M          84   \n",
       "1                      6.0               1   M          70   \n",
       "2                      3.0               1   F          91   \n",
       "3                      3.0               1   F          40   \n",
       "4                      5.0               1   F          89   \n",
       "\n",
       "   place_of_death_and_decedents_status marital_status injury_at_work  \\\n",
       "0                                    1              M              U   \n",
       "1                                    1              M              U   \n",
       "2                                    4              W              U   \n",
       "3                                    4              S              N   \n",
       "4                                    6              W              U   \n",
       "\n",
       "   manner_of_death method_of_disposition autopsy  358_cause_recode  \\\n",
       "0              7.0                     B       N               230   \n",
       "1              7.0                     C       N                93   \n",
       "2              7.0                     C       N               189   \n",
       "3              3.0                     B       Y               434   \n",
       "4              7.0                     C       N               214   \n",
       "\n",
       "   113_cause_recode  39_cause_recode  race  race_recode_3  race_recode_5  \\\n",
       "0                67               22     1              1              1   \n",
       "1                27                8     1              1              1   \n",
       "2                52               17     1              1              1   \n",
       "3               129               41     3              2              3   \n",
       "4                62               21     1              1              1   \n",
       "\n",
       "   hispanic_origin  hispanic_originrace_recode  \n",
       "0              100                           6  \n",
       "1              100                           6  \n",
       "2              100                           6  \n",
       "3              100                           8  \n",
       "4              100                           6  "
      ]
     },
     "execution_count": 5,
     "metadata": {},
     "output_type": "execute_result"
    }
   ],
   "source": [
    "data.head()"
   ]
  },
  {
   "cell_type": "code",
   "execution_count": 6,
   "metadata": {},
   "outputs": [],
   "source": [
    "data.to_csv('../cleaned_data/2015_data.csv', index=False)"
   ]
  }
 ],
 "metadata": {
  "kernelspec": {
   "display_name": "ds",
   "language": "python",
   "name": "python3"
  },
  "language_info": {
   "codemirror_mode": {
    "name": "ipython",
    "version": 3
   },
   "file_extension": ".py",
   "mimetype": "text/x-python",
   "name": "python",
   "nbconvert_exporter": "python",
   "pygments_lexer": "ipython3",
   "version": "3.11.3"
  },
  "orig_nbformat": 4
 },
 "nbformat": 4,
 "nbformat_minor": 2
}
